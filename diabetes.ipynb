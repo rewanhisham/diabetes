{
  "nbformat": 4,
  "nbformat_minor": 0,
  "metadata": {
    "colab": {
      "name": "diabetes.ipynb",
      "provenance": [],
      "toc_visible": true
    },
    "kernelspec": {
      "name": "python3",
      "display_name": "Python 3"
    },
    "language_info": {
      "name": "python"
    }
  },
  "cells": [
    {
      "cell_type": "code",
      "execution_count": null,
      "metadata": {
        "id": "nDDcOpquSLQb"
      },
      "outputs": [],
      "source": [
        "import pandas as pd\n",
        "import numpy as np"
      ]
    },
    {
      "cell_type": "code",
      "source": [
        "from google.colab import drive\n",
        "drive.mount('/content/drive')"
      ],
      "metadata": {
        "id": "Mg1wxAz2ShOe"
      },
      "execution_count": null,
      "outputs": []
    },
    {
      "cell_type": "code",
      "source": [
        "data=pd.read_csv('/content/drive/MyDrive/diabetes (1).csv')\n",
        "data"
      ],
      "metadata": {
        "id": "O_7IczR3Svnm"
      },
      "execution_count": null,
      "outputs": []
    },
    {
      "cell_type": "code",
      "source": [
        "data.isnull().sum()"
      ],
      "metadata": {
        "id": "iFYZgEfhT4dO"
      },
      "execution_count": null,
      "outputs": []
    },
    {
      "cell_type": "code",
      "source": [
        "data.isna().any().sum()"
      ],
      "metadata": {
        "id": "M3doWlbjUHvR"
      },
      "execution_count": null,
      "outputs": []
    },
    {
      "cell_type": "code",
      "source": [
        "y=data['Outcome']\n",
        "y"
      ],
      "metadata": {
        "id": "CxHm-p1pUO3V"
      },
      "execution_count": null,
      "outputs": []
    },
    {
      "cell_type": "code",
      "source": [
        "data.drop(['Outcome'],axis=1,inplace=True)\n",
        "data"
      ],
      "metadata": {
        "id": "mu3FySSyUaiQ"
      },
      "execution_count": null,
      "outputs": []
    },
    {
      "cell_type": "code",
      "source": [
        "data.duplicated().sum()"
      ],
      "metadata": {
        "id": "8o0XfFY5Vab-"
      },
      "execution_count": null,
      "outputs": []
    },
    {
      "cell_type": "code",
      "source": [
        "data.describe()"
      ],
      "metadata": {
        "id": "DgwSpgPzVoBO"
      },
      "execution_count": null,
      "outputs": []
    },
    {
      "cell_type": "code",
      "source": [
        "from sklearn.model_selection import train_test_split"
      ],
      "metadata": {
        "id": "UlGg86hOVzOW"
      },
      "execution_count": null,
      "outputs": []
    },
    {
      "cell_type": "code",
      "source": [
        "X_train, X_test, y_train, y_test = train_test_split(data, y, test_size=0.20, shuffle =True)"
      ],
      "metadata": {
        "id": "9_TTP5lmV3Nj"
      },
      "execution_count": null,
      "outputs": []
    },
    {
      "cell_type": "code",
      "source": [
        "X_train.shape , X_test.shape ,y_test.shape,y_train.shape"
      ],
      "metadata": {
        "id": "vAcrNdYYV_tf"
      },
      "execution_count": null,
      "outputs": []
    },
    {
      "cell_type": "code",
      "source": [
        "from sklearn.linear_model import LogisticRegression"
      ],
      "metadata": {
        "id": "xeIEYFZDWEpO"
      },
      "execution_count": null,
      "outputs": []
    },
    {
      "cell_type": "code",
      "source": [
        "model=LogisticRegression()\n",
        "model.fit(X_train,y_train)\n",
        "#predicting data\n",
        "y_p=model.predict(X_test)"
      ],
      "metadata": {
        "id": "t8OKalGzWF1o"
      },
      "execution_count": null,
      "outputs": []
    },
    {
      "cell_type": "code",
      "source": [
        "print('LogisticRegression Train Score is : ' , model.score(X_train, y_train))\n",
        "print('LogisticRegression Test Score is : ' , model.score(X_test, y_test))"
      ],
      "metadata": {
        "id": "V2HlYoEwWQhY"
      },
      "execution_count": null,
      "outputs": []
    },
    {
      "cell_type": "code",
      "source": [
        "from sklearn.svm import SVC\n",
        "SVCModel = SVC(kernel = 'linear', random_state = 0)\n",
        "SVCModel.fit(X_train, y_train)\n",
        "\n",
        "print('SVCModel Train Score is : ' , SVCModel.score(X_train, y_train))\n",
        "print('SVCModel Test Score is : ' , SVCModel.score(X_test, y_test))"
      ],
      "metadata": {
        "id": "EvkwV-30YTEK"
      },
      "execution_count": null,
      "outputs": []
    }
  ]
}